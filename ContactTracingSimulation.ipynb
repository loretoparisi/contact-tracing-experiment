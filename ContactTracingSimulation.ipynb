{
  "nbformat": 4,
  "nbformat_minor": 0,
  "metadata": {
    "colab": {
      "name": "ContactTracingSimulation.ipynb",
      "provenance": [],
      "collapsed_sections": []
    },
    "kernelspec": {
      "name": "python3",
      "display_name": "Python 3"
    },
    "widgets": {
      "application/vnd.jupyter.widget-state+json": {
        "f10961d8be6f44dca714e85d5611c8f9": {
          "model_module": "@jupyter-widgets/controls",
          "model_name": "ButtonModel",
          "state": {
            "_view_name": "ButtonView",
            "style": "IPY_MODEL_96bd717c3ab642bcb7ab88076b9ae84b",
            "_dom_classes": [],
            "description": "Download Report",
            "_model_name": "ButtonModel",
            "button_style": "",
            "_view_module": "@jupyter-widgets/controls",
            "_model_module_version": "1.5.0",
            "tooltip": "",
            "_view_count": null,
            "disabled": false,
            "_view_module_version": "1.5.0",
            "layout": "IPY_MODEL_a175e6e379ed454c975bd881c44fb732",
            "_model_module": "@jupyter-widgets/controls",
            "icon": ""
          }
        },
        "96bd717c3ab642bcb7ab88076b9ae84b": {
          "model_module": "@jupyter-widgets/controls",
          "model_name": "ButtonStyleModel",
          "state": {
            "_view_name": "StyleView",
            "_model_name": "ButtonStyleModel",
            "_view_module": "@jupyter-widgets/base",
            "_model_module_version": "1.5.0",
            "_view_count": null,
            "button_color": null,
            "font_weight": "",
            "_view_module_version": "1.2.0",
            "_model_module": "@jupyter-widgets/controls"
          }
        },
        "a175e6e379ed454c975bd881c44fb732": {
          "model_module": "@jupyter-widgets/base",
          "model_name": "LayoutModel",
          "state": {
            "_view_name": "LayoutView",
            "grid_template_rows": null,
            "right": null,
            "justify_content": null,
            "_view_module": "@jupyter-widgets/base",
            "overflow": null,
            "_model_module_version": "1.2.0",
            "_view_count": null,
            "flex_flow": null,
            "width": null,
            "min_width": null,
            "border": null,
            "align_items": null,
            "bottom": null,
            "_model_module": "@jupyter-widgets/base",
            "top": null,
            "grid_column": null,
            "overflow_y": null,
            "overflow_x": null,
            "grid_auto_flow": null,
            "grid_area": null,
            "grid_template_columns": null,
            "flex": null,
            "_model_name": "LayoutModel",
            "justify_items": null,
            "grid_row": null,
            "max_height": null,
            "align_content": null,
            "visibility": null,
            "align_self": null,
            "height": null,
            "min_height": null,
            "padding": null,
            "grid_auto_rows": null,
            "grid_gap": null,
            "max_width": null,
            "order": null,
            "_view_module_version": "1.2.0",
            "grid_template_areas": null,
            "object_position": null,
            "object_fit": null,
            "grid_auto_columns": null,
            "margin": null,
            "display": null,
            "left": null
          }
        },
        "0eb1b81880da450cbd2fa5c386ec35e6": {
          "model_module": "@jupyter-widgets/output",
          "model_name": "OutputModel",
          "state": {
            "_view_name": "OutputView",
            "msg_id": "",
            "_dom_classes": [],
            "_model_name": "OutputModel",
            "outputs": [],
            "_view_module": "@jupyter-widgets/output",
            "_model_module_version": "1.0.0",
            "_view_count": null,
            "_view_module_version": "1.0.0",
            "layout": "IPY_MODEL_be6d7c8ea6a942f193c934089a044cd6",
            "_model_module": "@jupyter-widgets/output"
          }
        },
        "be6d7c8ea6a942f193c934089a044cd6": {
          "model_module": "@jupyter-widgets/base",
          "model_name": "LayoutModel",
          "state": {
            "_view_name": "LayoutView",
            "grid_template_rows": null,
            "right": null,
            "justify_content": null,
            "_view_module": "@jupyter-widgets/base",
            "overflow": null,
            "_model_module_version": "1.2.0",
            "_view_count": null,
            "flex_flow": null,
            "width": null,
            "min_width": null,
            "border": null,
            "align_items": null,
            "bottom": null,
            "_model_module": "@jupyter-widgets/base",
            "top": null,
            "grid_column": null,
            "overflow_y": null,
            "overflow_x": null,
            "grid_auto_flow": null,
            "grid_area": null,
            "grid_template_columns": null,
            "flex": null,
            "_model_name": "LayoutModel",
            "justify_items": null,
            "grid_row": null,
            "max_height": null,
            "align_content": null,
            "visibility": null,
            "align_self": null,
            "height": null,
            "min_height": null,
            "padding": null,
            "grid_auto_rows": null,
            "grid_gap": null,
            "max_width": null,
            "order": null,
            "_view_module_version": "1.2.0",
            "grid_template_areas": null,
            "object_position": null,
            "object_fit": null,
            "grid_auto_columns": null,
            "margin": null,
            "display": null,
            "left": null
          }
        }
      }
    }
  },
  "cells": [
    {
      "cell_type": "markdown",
      "metadata": {
        "id": "EiY_qen8hv0I",
        "colab_type": "text"
      },
      "source": [
        "\n",
        "\n",
        "# Contact Tracing Simulator\n",
        "\n",
        "\n",
        "This simulation runs a series of mock \"proximity interactions\" between a single subject and a collection of other handsets that belong to family, friends, coworkers, and other random people.\n",
        "\n",
        "\n",
        "## Disclaimer\n",
        "Python implementation based on **Apple + Google Contact Tracing** by Gretel.ai - https://github.com/gretelai/contact-tracing-experiment\n",
        "\n",
        "Source code:\n",
        "https://github.com/loretoparisi/contacttracing\n"
      ]
    },
    {
      "cell_type": "markdown",
      "metadata": {
        "id": "kUr0yDzspqMW",
        "colab_type": "text"
      },
      "source": [
        "## How to use\n",
        "Press the **PLAY** ▶️button at every block of code and wait results.\n",
        "\n"
      ]
    },
    {
      "cell_type": "code",
      "metadata": {
        "id": "gbjXg_5zOyc7",
        "colab_type": "code",
        "colab": {
          "base_uri": "https://localhost:8080/",
          "height": 119
        },
        "outputId": "8ae4bdf5-7ae5-4d9b-e3cf-bff30cfe745c"
      },
      "source": [
        "!git clone https://github.com/loretoparisi/contacttracing temp && rm -rf contacttracing && mv temp contacttracing && rm -rf temp"
      ],
      "execution_count": 15,
      "outputs": [
        {
          "output_type": "stream",
          "text": [
            "Cloning into 'temp'...\n",
            "remote: Enumerating objects: 84, done.\u001b[K\n",
            "remote: Counting objects:   1% (1/84)\u001b[K\rremote: Counting objects:   2% (2/84)\u001b[K\rremote: Counting objects:   3% (3/84)\u001b[K\rremote: Counting objects:   4% (4/84)\u001b[K\rremote: Counting objects:   5% (5/84)\u001b[K\rremote: Counting objects:   7% (6/84)\u001b[K\rremote: Counting objects:   8% (7/84)\u001b[K\rremote: Counting objects:   9% (8/84)\u001b[K\rremote: Counting objects:  10% (9/84)\u001b[K\rremote: Counting objects:  11% (10/84)\u001b[K\rremote: Counting objects:  13% (11/84)\u001b[K\rremote: Counting objects:  14% (12/84)\u001b[K\rremote: Counting objects:  15% (13/84)\u001b[K\rremote: Counting objects:  16% (14/84)\u001b[K\rremote: Counting objects:  17% (15/84)\u001b[K\rremote: Counting objects:  19% (16/84)\u001b[K\rremote: Counting objects:  20% (17/84)\u001b[K\rremote: Counting objects:  21% (18/84)\u001b[K\rremote: Counting objects:  22% (19/84)\u001b[K\rremote: Counting objects:  23% (20/84)\u001b[K\rremote: Counting objects:  25% (21/84)\u001b[K\rremote: Counting objects:  26% (22/84)\u001b[K\rremote: Counting objects:  27% (23/84)\u001b[K\rremote: Counting objects:  28% (24/84)\u001b[K\rremote: Counting objects:  29% (25/84)\u001b[K\rremote: Counting objects:  30% (26/84)\u001b[K\rremote: Counting objects:  32% (27/84)\u001b[K\rremote: Counting objects:  33% (28/84)\u001b[K\rremote: Counting objects:  34% (29/84)\u001b[K\rremote: Counting objects:  35% (30/84)\u001b[K\rremote: Counting objects:  36% (31/84)\u001b[K\rremote: Counting objects:  38% (32/84)\u001b[K\rremote: Counting objects:  39% (33/84)\u001b[K\rremote: Counting objects:  40% (34/84)\u001b[K\rremote: Counting objects:  41% (35/84)\u001b[K\rremote: Counting objects:  42% (36/84)\u001b[K\rremote: Counting objects:  44% (37/84)\u001b[K\rremote: Counting objects:  45% (38/84)\u001b[K\rremote: Counting objects:  46% (39/84)\u001b[K\rremote: Counting objects:  47% (40/84)\u001b[K\rremote: Counting objects:  48% (41/84)\u001b[K\rremote: Counting objects:  50% (42/84)\u001b[K\rremote: Counting objects:  51% (43/84)\u001b[K\rremote: Counting objects:  52% (44/84)\u001b[K\rremote: Counting objects:  53% (45/84)\u001b[K\rremote: Counting objects:  54% (46/84)\u001b[K\rremote: Counting objects:  55% (47/84)\u001b[K\rremote: Counting objects:  57% (48/84)\u001b[K\rremote: Counting objects:  58% (49/84)\u001b[K\rremote: Counting objects:  59% (50/84)\u001b[K\rremote: Counting objects:  60% (51/84)\u001b[K\rremote: Counting objects:  61% (52/84)\u001b[K\rremote: Counting objects:  63% (53/84)\u001b[K\rremote: Counting objects:  64% (54/84)\u001b[K\rremote: Counting objects:  65% (55/84)\u001b[K\rremote: Counting objects:  66% (56/84)\u001b[K\rremote: Counting objects:  67% (57/84)\u001b[K\rremote: Counting objects:  69% (58/84)\u001b[K\rremote: Counting objects:  70% (59/84)\u001b[K\rremote: Counting objects:  71% (60/84)\u001b[K\rremote: Counting objects:  72% (61/84)\u001b[K\rremote: Counting objects:  73% (62/84)\u001b[K\rremote: Counting objects:  75% (63/84)\u001b[K\rremote: Counting objects:  76% (64/84)\u001b[K\rremote: Counting objects:  77% (65/84)\u001b[K\rremote: Counting objects:  78% (66/84)\u001b[K\rremote: Counting objects:  79% (67/84)\u001b[K\rremote: Counting objects:  80% (68/84)\u001b[K\rremote: Counting objects:  82% (69/84)\u001b[K\rremote: Counting objects:  83% (70/84)\u001b[K\rremote: Counting objects:  84% (71/84)\u001b[K\rremote: Counting objects:  85% (72/84)\u001b[K\rremote: Counting objects:  86% (73/84)\u001b[K\rremote: Counting objects:  88% (74/84)\u001b[K\rremote: Counting objects:  89% (75/84)\u001b[K\rremote: Counting objects:  90% (76/84)\u001b[K\rremote: Counting objects:  91% (77/84)\u001b[K\rremote: Counting objects:  92% (78/84)\u001b[K\rremote: Counting objects:  94% (79/84)\u001b[K\rremote: Counting objects:  95% (80/84)\u001b[K\rremote: Counting objects:  96% (81/84)\u001b[K\rremote: Counting objects:  97% (82/84)\u001b[K\rremote: Counting objects:  98% (83/84)\u001b[K\rremote: Counting objects: 100% (84/84)\u001b[K\rremote: Counting objects: 100% (84/84), done.\u001b[K\n",
            "remote: Compressing objects:   1% (1/52)\u001b[K\rremote: Compressing objects:   3% (2/52)\u001b[K\rremote: Compressing objects:   5% (3/52)\u001b[K\rremote: Compressing objects:   7% (4/52)\u001b[K\rremote: Compressing objects:   9% (5/52)\u001b[K\rremote: Compressing objects:  11% (6/52)\u001b[K\rremote: Compressing objects:  13% (7/52)\u001b[K\rremote: Compressing objects:  15% (8/52)\u001b[K\rremote: Compressing objects:  17% (9/52)\u001b[K\rremote: Compressing objects:  19% (10/52)\u001b[K\rremote: Compressing objects:  21% (11/52)\u001b[K\rremote: Compressing objects:  23% (12/52)\u001b[K\rremote: Compressing objects:  25% (13/52)\u001b[K\rremote: Compressing objects:  26% (14/52)\u001b[K\rremote: Compressing objects:  28% (15/52)\u001b[K\rremote: Compressing objects:  30% (16/52)\u001b[K\rremote: Compressing objects:  32% (17/52)\u001b[K\rremote: Compressing objects:  34% (18/52)\u001b[K\rremote: Compressing objects:  36% (19/52)\u001b[K\rremote: Compressing objects:  38% (20/52)\u001b[K\rremote: Compressing objects:  40% (21/52)\u001b[K\rremote: Compressing objects:  42% (22/52)\u001b[K\rremote: Compressing objects:  44% (23/52)\u001b[K\rremote: Compressing objects:  46% (24/52)\u001b[K\rremote: Compressing objects:  48% (25/52)\u001b[K\rremote: Compressing objects:  50% (26/52)\u001b[K\rremote: Compressing objects:  51% (27/52)\u001b[K\rremote: Compressing objects:  53% (28/52)\u001b[K\rremote: Compressing objects:  55% (29/52)\u001b[K\rremote: Compressing objects:  57% (30/52)\u001b[K\rremote: Compressing objects:  59% (31/52)\u001b[K\rremote: Compressing objects:  61% (32/52)\u001b[K\rremote: Compressing objects:  63% (33/52)\u001b[K\rremote: Compressing objects:  65% (34/52)\u001b[K\rremote: Compressing objects:  67% (35/52)\u001b[K\rremote: Compressing objects:  69% (36/52)\u001b[K\rremote: Compressing objects:  71% (37/52)\u001b[K\rremote: Compressing objects:  73% (38/52)\u001b[K\rremote: Compressing objects:  75% (39/52)\u001b[K\rremote: Compressing objects:  76% (40/52)\u001b[K\rremote: Compressing objects:  78% (41/52)\u001b[K\rremote: Compressing objects:  80% (42/52)\u001b[K\rremote: Compressing objects:  82% (43/52)\u001b[K\rremote: Compressing objects:  84% (44/52)\u001b[K\rremote: Compressing objects:  86% (45/52)\u001b[K\rremote: Compressing objects:  88% (46/52)\u001b[K\rremote: Compressing objects:  90% (47/52)\u001b[K\rremote: Compressing objects:  92% (48/52)\u001b[K\rremote: Compressing objects:  94% (49/52)\u001b[K\rremote: Compressing objects:  96% (50/52)\u001b[K\rremote: Compressing objects:  98% (51/52)\u001b[K\rremote: Compressing objects: 100% (52/52)\u001b[K\rremote: Compressing objects: 100% (52/52), done.\u001b[K\n",
            "remote: Total 84 (delta 47), reused 62 (delta 30), pack-reused 0\u001b[K\n",
            "Unpacking objects:   1% (1/84)   \rUnpacking objects:   2% (2/84)   \rUnpacking objects:   3% (3/84)   \rUnpacking objects:   4% (4/84)   \rUnpacking objects:   5% (5/84)   \rUnpacking objects:   7% (6/84)   \rUnpacking objects:   8% (7/84)   \rUnpacking objects:   9% (8/84)   \rUnpacking objects:  10% (9/84)   \rUnpacking objects:  11% (10/84)   \rUnpacking objects:  13% (11/84)   \rUnpacking objects:  14% (12/84)   \rUnpacking objects:  15% (13/84)   \rUnpacking objects:  16% (14/84)   \rUnpacking objects:  17% (15/84)   \rUnpacking objects:  19% (16/84)   \rUnpacking objects:  20% (17/84)   \rUnpacking objects:  21% (18/84)   \rUnpacking objects:  22% (19/84)   \rUnpacking objects:  23% (20/84)   \rUnpacking objects:  25% (21/84)   \rUnpacking objects:  26% (22/84)   \rUnpacking objects:  27% (23/84)   \rUnpacking objects:  28% (24/84)   \rUnpacking objects:  29% (25/84)   \rUnpacking objects:  30% (26/84)   \rUnpacking objects:  32% (27/84)   \rUnpacking objects:  33% (28/84)   \rUnpacking objects:  34% (29/84)   \rUnpacking objects:  35% (30/84)   \rUnpacking objects:  36% (31/84)   \rUnpacking objects:  38% (32/84)   \rUnpacking objects:  39% (33/84)   \rUnpacking objects:  40% (34/84)   \rUnpacking objects:  41% (35/84)   \rUnpacking objects:  42% (36/84)   \rUnpacking objects:  44% (37/84)   \rUnpacking objects:  45% (38/84)   \rUnpacking objects:  46% (39/84)   \rUnpacking objects:  47% (40/84)   \rUnpacking objects:  48% (41/84)   \rUnpacking objects:  50% (42/84)   \rUnpacking objects:  51% (43/84)   \rUnpacking objects:  52% (44/84)   \rUnpacking objects:  53% (45/84)   \rUnpacking objects:  54% (46/84)   \rUnpacking objects:  55% (47/84)   \rUnpacking objects:  57% (48/84)   \rUnpacking objects:  58% (49/84)   \rUnpacking objects:  59% (50/84)   \rUnpacking objects:  60% (51/84)   \rUnpacking objects:  61% (52/84)   \rUnpacking objects:  63% (53/84)   \rUnpacking objects:  64% (54/84)   \rUnpacking objects:  65% (55/84)   \rUnpacking objects:  66% (56/84)   \rUnpacking objects:  67% (57/84)   \rUnpacking objects:  69% (58/84)   \rUnpacking objects:  70% (59/84)   \rUnpacking objects:  71% (60/84)   \rUnpacking objects:  72% (61/84)   \rUnpacking objects:  73% (62/84)   \rUnpacking objects:  75% (63/84)   \rUnpacking objects:  76% (64/84)   \rUnpacking objects:  77% (65/84)   \rUnpacking objects:  78% (66/84)   \rUnpacking objects:  79% (67/84)   \rUnpacking objects:  80% (68/84)   \rUnpacking objects:  82% (69/84)   \rUnpacking objects:  83% (70/84)   \rUnpacking objects:  84% (71/84)   \rUnpacking objects:  85% (72/84)   \rUnpacking objects:  86% (73/84)   \rUnpacking objects:  88% (74/84)   \rUnpacking objects:  89% (75/84)   \rUnpacking objects:  90% (76/84)   \rUnpacking objects:  91% (77/84)   \rUnpacking objects:  92% (78/84)   \rUnpacking objects:  94% (79/84)   \rUnpacking objects:  95% (80/84)   \rUnpacking objects:  96% (81/84)   \rUnpacking objects:  97% (82/84)   \rUnpacking objects:  98% (83/84)   \rUnpacking objects: 100% (84/84)   \rUnpacking objects: 100% (84/84), done.\n"
          ],
          "name": "stdout"
        }
      ]
    },
    {
      "cell_type": "code",
      "metadata": {
        "id": "sFtW9lCArwtm",
        "colab_type": "code",
        "colab": {
          "base_uri": "https://localhost:8080/",
          "height": 34
        },
        "outputId": "a69f396c-4726-46c3-9dc1-61f8d6a2670f"
      },
      "source": [
        "!cd contacttracing && pip install -r requirements.txt "
      ],
      "execution_count": 16,
      "outputs": [
        {
          "output_type": "stream",
          "text": [
            "Requirement already satisfied: pycryptodome in /usr/local/lib/python3.6/dist-packages (from -r requirements.txt (line 1)) (3.9.7)\n"
          ],
          "name": "stdout"
        }
      ]
    },
    {
      "cell_type": "markdown",
      "metadata": {
        "id": "pIfLhiuOQOK_",
        "colab_type": "text"
      },
      "source": [
        ""
      ]
    },
    {
      "cell_type": "markdown",
      "metadata": {
        "id": "Fco9liqdRYkk",
        "colab_type": "text"
      },
      "source": [
        "# Run Tracing Simulation"
      ]
    },
    {
      "cell_type": "code",
      "metadata": {
        "id": "kWLJxIxARyyp",
        "colab_type": "code",
        "outputId": "63896dad-7d1b-4949-da36-06326def39af",
        "cellView": "both",
        "colab": {
          "base_uri": "https://localhost:8080/",
          "height": 406,
          "referenced_widgets": [
            "f10961d8be6f44dca714e85d5611c8f9",
            "96bd717c3ab642bcb7ab88076b9ae84b",
            "a175e6e379ed454c975bd881c44fb732",
            "0eb1b81880da450cbd2fa5c386ec35e6",
            "be6d7c8ea6a942f193c934089a044cd6"
          ]
        }
      },
      "source": [
        "import sys,os, datetime, time, random\n",
        "\n",
        "from contacttracing.life import Life\n",
        "from contacttracing.simulation import datetime2utc_time\n",
        "\n",
        "\n",
        "# subjects ranges\n",
        "#@title ## Markdown\n",
        "#@markdown ##Choose Simulation Number of Contacts \n",
        "family_range = 3 #@param {type:\"slider\", min:2, max:8, step:1}\n",
        "friends_range = 10 #@param {type:\"slider\", min:1, max:20, step:1}\n",
        "coworkers_range = 50 #@param {type:\"slider\", min:1, max:100, step:1}\n",
        "others_range = 10 #@param {type:\"slider\", min:1, max:100, step:1}\n",
        "\n",
        "# use randome range if defaults\n",
        "#family_range = random.randrange(2, 8) if 3 else family_range\n",
        "#friends_range = random.randrange(10, 20) if 10 else friends_range\n",
        "#coworkers_range = random.randrange(15, 40) if 15 else coworkers_range\n",
        "#others_range = random.randrange(40, 100) if 30 else others_range\n",
        "\n",
        "# simulation start time\n",
        "now = datetime.datetime.now()\n",
        "\n",
        "#@title ## Markdown\n",
        "#@markdown ##Choose Simulation Starting Date\n",
        "year = now.year\n",
        "month = 5 #@param {type:\"slider\", min:1, max:12, step:1}\n",
        "day = 4 #@param {type:\"slider\", min:1, max:31, step:1}\n",
        "hour = 7 #@param {type:\"slider\", min:1, max:24, step:1}\n",
        "\n",
        "d = datetime.datetime(now.year, month, day, hour, 0, 0)\n",
        "ts = datetime2utc_time(d)\n",
        "\n",
        "print(\"start time:\", ts, datetime.datetime.utcfromtimestamp(ts).isoformat())\n",
        "\n",
        "# create simulator\n",
        "life = Life(ts, family_range, friends_range, coworkers_range, others_range)\n",
        "\n",
        "# start simulation\n",
        "life.start()\n",
        "\n",
        "# generate report and download\n",
        "life.generate_report()\n",
        "life.download_report()"
      ],
      "execution_count": 17,
      "outputs": [
        {
          "output_type": "stream",
          "text": [
            "start time: 1588575600.0 2020-05-04T07:00:00\n",
            "2020-05-04 07:00:00\n",
            "2020-05-04 16:00:00\n",
            "2020-05-05 07:00:00\n",
            "2020-05-05 17:00:00\n",
            "2020-05-06 07:00:00\n",
            "2020-05-06 17:00:00\n",
            "2020-05-07 07:00:00\n",
            "2020-05-07 17:00:00\n",
            "2020-05-08 07:00:00\n",
            "2020-05-08 17:00:00\n",
            "2020-05-11 07:00:00\n",
            "2020-05-11 17:00:00\n",
            "2020-05-12 07:00:00\n",
            "2020-05-12 18:00:00\n",
            "2020-05-13 07:00:00\n",
            "2020-05-13 17:00:00\n",
            "2020-05-14 07:00:00\n",
            "2020-05-14 16:00:00\n",
            "2020-05-15 07:00:00\n",
            "2020-05-15 17:00:00\n"
          ],
          "name": "stdout"
        },
        {
          "output_type": "display_data",
          "data": {
            "application/vnd.jupyter.widget-view+json": {
              "model_id": "f10961d8be6f44dca714e85d5611c8f9",
              "version_minor": 0,
              "version_major": 2
            },
            "text/plain": [
              "Button(description='Download Report', style=ButtonStyle())"
            ]
          },
          "metadata": {
            "tags": []
          }
        },
        {
          "output_type": "display_data",
          "data": {
            "application/vnd.jupyter.widget-view+json": {
              "model_id": "0eb1b81880da450cbd2fa5c386ec35e6",
              "version_minor": 0,
              "version_major": 2
            },
            "text/plain": [
              "Output()"
            ]
          },
          "metadata": {
            "tags": []
          }
        }
      ]
    },
    {
      "cell_type": "markdown",
      "metadata": {
        "id": "K8hSNCaTPafU",
        "colab_type": "text"
      },
      "source": [
        ""
      ]
    }
  ]
}