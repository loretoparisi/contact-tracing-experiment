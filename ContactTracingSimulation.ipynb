{
  "nbformat": 4,
  "nbformat_minor": 0,
  "metadata": {
    "colab": {
      "name": "ContactTracingSimulation.ipynb",
      "provenance": [],
      "collapsed_sections": []
    },
    "kernelspec": {
      "name": "python3",
      "display_name": "Python 3"
    }
  },
  "cells": [
    {
      "cell_type": "markdown",
      "metadata": {
        "id": "EiY_qen8hv0I",
        "colab_type": "text"
      },
      "source": [
        "\n",
        "\n",
        "# Contact Tracing Simulator\n",
        "\n",
        "\n",
        "This simulation runs a series of mock \"proximity interactions\" between a single subject and a collection of other handsets that belong to family, friends, coworkers, and other random people.\n",
        "\n",
        "\n",
        "## Disclaimer\n",
        "Python implementation based on **Apple + Google Contact Tracing** by Gretel.ai - https://github.com/gretelai/contact-tracing-experiment\n",
        "\n",
        "Source code:\n",
        "https://github.com/loretoparisi/contacttracing\n"
      ]
    },
    {
      "cell_type": "markdown",
      "metadata": {
        "id": "kUr0yDzspqMW",
        "colab_type": "text"
      },
      "source": [
        "## How to use\n",
        "Press the **PLAY** ▶️button at every block of code and wait results.\n",
        "\n"
      ]
    },
    {
      "cell_type": "code",
      "metadata": {
        "id": "gbjXg_5zOyc7",
        "colab_type": "code",
        "colab": {}
      },
      "source": [
        "![ -d \"contacttracing\" ] && echo \"repository cloned already\" || git clone https://github.com/loretoparisi/contacttracing\n",
        "!cd contacttracing && pip install -r requirements.txt "
      ],
      "execution_count": 0,
      "outputs": []
    },
    {
      "cell_type": "markdown",
      "metadata": {
        "id": "pIfLhiuOQOK_",
        "colab_type": "text"
      },
      "source": [
        ""
      ]
    },
    {
      "cell_type": "markdown",
      "metadata": {
        "id": "Fco9liqdRYkk",
        "colab_type": "text"
      },
      "source": [
        "# Run Tracing Simulation"
      ]
    },
    {
      "cell_type": "code",
      "metadata": {
        "id": "kWLJxIxARyyp",
        "colab_type": "code",
        "colab": {}
      },
      "source": [
        "import sys,os, datetime, time\n",
        "\n",
        "from contacttracing.life import Life\n",
        "\n",
        "ts = int(time.time())\n",
        "life = Life(ts)\n",
        "life.start()\n",
        "life.generate_report()\n",
        "life.download_report()"
      ],
      "execution_count": 0,
      "outputs": []
    },
    {
      "cell_type": "markdown",
      "metadata": {
        "id": "K8hSNCaTPafU",
        "colab_type": "text"
      },
      "source": [
        ""
      ]
    }
  ]
}