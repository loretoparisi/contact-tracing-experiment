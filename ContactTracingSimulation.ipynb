{
  "nbformat": 4,
  "nbformat_minor": 0,
  "metadata": {
    "colab": {
      "name": "ContactTracingSimulation.ipynb",
      "provenance": [],
      "collapsed_sections": []
    },
    "kernelspec": {
      "name": "python3",
      "display_name": "Python 3"
    },
    "widgets": {
      "application/vnd.jupyter.widget-state+json": {
        "4ac2c623b177478db71a6c1f1581c541": {
          "model_module": "@jupyter-widgets/controls",
          "model_name": "ButtonModel",
          "state": {
            "_view_name": "ButtonView",
            "style": "IPY_MODEL_2f8ed09eee0d4ea991e8abbcf3ff44f3",
            "_dom_classes": [],
            "description": "Download Report",
            "_model_name": "ButtonModel",
            "button_style": "",
            "_view_module": "@jupyter-widgets/controls",
            "_model_module_version": "1.5.0",
            "tooltip": "",
            "_view_count": null,
            "disabled": false,
            "_view_module_version": "1.5.0",
            "layout": "IPY_MODEL_761b8efb5236404eb29dcb6dc0e2a3b1",
            "_model_module": "@jupyter-widgets/controls",
            "icon": ""
          }
        },
        "2f8ed09eee0d4ea991e8abbcf3ff44f3": {
          "model_module": "@jupyter-widgets/controls",
          "model_name": "ButtonStyleModel",
          "state": {
            "_view_name": "StyleView",
            "_model_name": "ButtonStyleModel",
            "_view_module": "@jupyter-widgets/base",
            "_model_module_version": "1.5.0",
            "_view_count": null,
            "button_color": null,
            "font_weight": "",
            "_view_module_version": "1.2.0",
            "_model_module": "@jupyter-widgets/controls"
          }
        },
        "761b8efb5236404eb29dcb6dc0e2a3b1": {
          "model_module": "@jupyter-widgets/base",
          "model_name": "LayoutModel",
          "state": {
            "_view_name": "LayoutView",
            "grid_template_rows": null,
            "right": null,
            "justify_content": null,
            "_view_module": "@jupyter-widgets/base",
            "overflow": null,
            "_model_module_version": "1.2.0",
            "_view_count": null,
            "flex_flow": null,
            "width": null,
            "min_width": null,
            "border": null,
            "align_items": null,
            "bottom": null,
            "_model_module": "@jupyter-widgets/base",
            "top": null,
            "grid_column": null,
            "overflow_y": null,
            "overflow_x": null,
            "grid_auto_flow": null,
            "grid_area": null,
            "grid_template_columns": null,
            "flex": null,
            "_model_name": "LayoutModel",
            "justify_items": null,
            "grid_row": null,
            "max_height": null,
            "align_content": null,
            "visibility": null,
            "align_self": null,
            "height": null,
            "min_height": null,
            "padding": null,
            "grid_auto_rows": null,
            "grid_gap": null,
            "max_width": null,
            "order": null,
            "_view_module_version": "1.2.0",
            "grid_template_areas": null,
            "object_position": null,
            "object_fit": null,
            "grid_auto_columns": null,
            "margin": null,
            "display": null,
            "left": null
          }
        },
        "7f6cd749442b4726a498f85a7898e76f": {
          "model_module": "@jupyter-widgets/output",
          "model_name": "OutputModel",
          "state": {
            "_view_name": "OutputView",
            "msg_id": "",
            "_dom_classes": [],
            "_model_name": "OutputModel",
            "outputs": [],
            "_view_module": "@jupyter-widgets/output",
            "_model_module_version": "1.0.0",
            "_view_count": null,
            "_view_module_version": "1.0.0",
            "layout": "IPY_MODEL_7c40021755ad458295f8d5ed7f67ad47",
            "_model_module": "@jupyter-widgets/output"
          }
        },
        "7c40021755ad458295f8d5ed7f67ad47": {
          "model_module": "@jupyter-widgets/base",
          "model_name": "LayoutModel",
          "state": {
            "_view_name": "LayoutView",
            "grid_template_rows": null,
            "right": null,
            "justify_content": null,
            "_view_module": "@jupyter-widgets/base",
            "overflow": null,
            "_model_module_version": "1.2.0",
            "_view_count": null,
            "flex_flow": null,
            "width": null,
            "min_width": null,
            "border": null,
            "align_items": null,
            "bottom": null,
            "_model_module": "@jupyter-widgets/base",
            "top": null,
            "grid_column": null,
            "overflow_y": null,
            "overflow_x": null,
            "grid_auto_flow": null,
            "grid_area": null,
            "grid_template_columns": null,
            "flex": null,
            "_model_name": "LayoutModel",
            "justify_items": null,
            "grid_row": null,
            "max_height": null,
            "align_content": null,
            "visibility": null,
            "align_self": null,
            "height": null,
            "min_height": null,
            "padding": null,
            "grid_auto_rows": null,
            "grid_gap": null,
            "max_width": null,
            "order": null,
            "_view_module_version": "1.2.0",
            "grid_template_areas": null,
            "object_position": null,
            "object_fit": null,
            "grid_auto_columns": null,
            "margin": null,
            "display": null,
            "left": null
          }
        }
      }
    }
  },
  "cells": [
    {
      "cell_type": "markdown",
      "metadata": {
        "id": "EiY_qen8hv0I",
        "colab_type": "text"
      },
      "source": [
        "\n",
        "\n",
        "# Contact Tracing Simulator\n",
        "\n",
        "\n",
        "This simulation runs a series of mock \"proximity interactions\" between a single subject and a collection of other handsets that belong to family, friends, coworkers, and other random people.\n",
        "\n",
        "## What's New\n",
        "The simulation source code and this Colab has been updated to match **Apple|Google v1.1. specification April 2020**\n",
        "\n",
        "\n",
        "## Disclaimer\n",
        "Python implementation based on **Apple + Google Contact Tracing** by Gretel.ai - https://github.com/gretelai/contact-tracing-experiment\n",
        "\n",
        "Source code:\n",
        "https://github.com/loretoparisi/contacttracing\n"
      ]
    },
    {
      "cell_type": "markdown",
      "metadata": {
        "id": "kUr0yDzspqMW",
        "colab_type": "text"
      },
      "source": [
        "## How to use\n",
        "Press the **PLAY** ▶️button at every block of code and wait results.\n",
        "\n"
      ]
    },
    {
      "cell_type": "code",
      "metadata": {
        "id": "gbjXg_5zOyc7",
        "colab_type": "code",
        "outputId": "2e42f3ec-2a81-4c8f-89b0-49f00699ecbe",
        "colab": {
          "base_uri": "https://localhost:8080/",
          "height": 136
        }
      },
      "source": [
        "!git clone https://github.com/loretoparisi/contacttracing temp && rm -rf contacttracing && mv temp contacttracing && rm -rf temp"
      ],
      "execution_count": 8,
      "outputs": [
        {
          "output_type": "stream",
          "text": [
            "Cloning into 'temp'...\n",
            "remote: Enumerating objects: 121, done.\u001b[K\n",
            "remote: Counting objects: 100% (121/121), done.\u001b[K\n",
            "remote: Compressing objects: 100% (75/75), done.\u001b[K\n",
            "remote: Total 121 (delta 73), reused 87 (delta 44), pack-reused 0\u001b[K\n",
            "Receiving objects: 100% (121/121), 32.98 KiB | 10.99 MiB/s, done.\n",
            "Resolving deltas: 100% (73/73), done.\n"
          ],
          "name": "stdout"
        }
      ]
    },
    {
      "cell_type": "code",
      "metadata": {
        "id": "sFtW9lCArwtm",
        "colab_type": "code",
        "outputId": "f441be6d-ff29-4a92-e51f-7cc2e651e3a9",
        "colab": {
          "base_uri": "https://localhost:8080/",
          "height": 34
        }
      },
      "source": [
        "!cd contacttracing && pip install -r requirements.txt "
      ],
      "execution_count": 1,
      "outputs": [
        {
          "output_type": "stream",
          "text": [
            "Requirement already satisfied: pycryptodome in /usr/local/lib/python3.6/dist-packages (from -r requirements.txt (line 1)) (3.9.7)\n"
          ],
          "name": "stdout"
        }
      ]
    },
    {
      "cell_type": "markdown",
      "metadata": {
        "id": "pIfLhiuOQOK_",
        "colab_type": "text"
      },
      "source": [
        ""
      ]
    },
    {
      "cell_type": "markdown",
      "metadata": {
        "id": "Fco9liqdRYkk",
        "colab_type": "text"
      },
      "source": [
        "# Run Tracing Simulation"
      ]
    },
    {
      "cell_type": "code",
      "metadata": {
        "id": "kWLJxIxARyyp",
        "colab_type": "code",
        "outputId": "3abd3c7a-cf57-4fa9-cc13-e4bc9230e107",
        "cellView": "both",
        "colab": {
          "base_uri": "https://localhost:8080/",
          "height": 287,
          "referenced_widgets": [
            "4ac2c623b177478db71a6c1f1581c541",
            "2f8ed09eee0d4ea991e8abbcf3ff44f3",
            "761b8efb5236404eb29dcb6dc0e2a3b1",
            "7f6cd749442b4726a498f85a7898e76f",
            "7c40021755ad458295f8d5ed7f67ad47"
          ]
        }
      },
      "source": [
        "import sys, os, datetime, time, random, json\n",
        "from contacttracing.life import Life\n",
        "from contacttracing.simulation import datetime2utc_time,download_report\n",
        "\n",
        "\n",
        "# subjects ranges\n",
        "#@title ## Markdown\n",
        "#@markdown ##Choose Simulation Number of Contacts \n",
        "family_range = 4 #@param {type:\"slider\", min:2, max:8, step:1}\n",
        "friends_range = 5 #@param {type:\"slider\", min:1, max:20, step:1}\n",
        "coworkers_range = 20 #@param {type:\"slider\", min:1, max:100, step:1}\n",
        "others_range = 6 #@param {type:\"slider\", min:1, max:100, step:1}\n",
        "\n",
        "# simulation start time\n",
        "now = datetime.datetime.now()\n",
        "\n",
        "#@title ## Markdown\n",
        "#@markdown ##Choose Simulation Starting Date\n",
        "year = now.year\n",
        "month = 5 #@param {type:\"slider\", min:1, max:12, step:1}\n",
        "day = 4 #@param {type:\"slider\", min:1, max:31, step:1}\n",
        "hour = 9 #@param {type:\"slider\", min:1, max:24, step:1}\n",
        "\n",
        "d = datetime.datetime(now.year, month, day, hour, 0, 0)\n",
        "ts = datetime2utc_time(d)\n",
        "\n",
        "print(\"start time:\", ts, datetime.datetime.utcfromtimestamp(ts).isoformat())\n",
        "\n",
        "# create simulator\n",
        "life = Life(ts, family_range, friends_range, coworkers_range, others_range)\n",
        "\n",
        "# start simulation\n",
        "life.start()\n",
        "\n",
        "# generate report and download\n",
        "report = life.generate_report()\n",
        "print(report)\n",
        "report = json.loads( report )\n",
        "# report download button\n",
        "download_report( report['report_name'] )"
      ],
      "execution_count": 5,
      "outputs": [
        {
          "output_type": "stream",
          "text": [
            "start time: 1588582800.0 2020-05-04T09:00:00\n",
            "{\n",
            "    \"report_name\": \"report_2020-05-04T090000.txt\",\n",
            "    \"start_time\": \"2020-05-04T09:00:00\",\n",
            "    \"end_time\": \"2020-05-18T09:00:00\",\n",
            "    \"hour_duration_sec\": 3600,\n",
            "    \"day_duration_sec\": 86400,\n",
            "    \"contacts\": 34,\n",
            "    \"contact_periods\": 243,\n",
            "    \"family\": 4,\n",
            "    \"friends\": 5,\n",
            "    \"coworkers\": 20,\n",
            "    \"others\": 6\n",
            "}\n"
          ],
          "name": "stdout"
        },
        {
          "output_type": "display_data",
          "data": {
            "application/vnd.jupyter.widget-view+json": {
              "model_id": "4ac2c623b177478db71a6c1f1581c541",
              "version_minor": 0,
              "version_major": 2
            },
            "text/plain": [
              "Button(description='Download Report', style=ButtonStyle())"
            ]
          },
          "metadata": {
            "tags": []
          }
        },
        {
          "output_type": "display_data",
          "data": {
            "application/vnd.jupyter.widget-view+json": {
              "model_id": "7f6cd749442b4726a498f85a7898e76f",
              "version_minor": 0,
              "version_major": 2
            },
            "text/plain": [
              "Output()"
            ]
          },
          "metadata": {
            "tags": []
          }
        }
      ]
    },
    {
      "cell_type": "markdown",
      "metadata": {
        "id": "K8hSNCaTPafU",
        "colab_type": "text"
      },
      "source": [
        ""
      ]
    }
  ]
}